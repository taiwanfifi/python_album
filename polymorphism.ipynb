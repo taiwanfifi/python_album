{
 "cells": [
  {
   "cell_type": "code",
   "execution_count": null,
   "metadata": {},
   "outputs": [],
   "source": [
    "# 抽象的表現是為實作的class不能產生實體，而該class僅是定義一個模板告訴實作者要實作什麼內容"
   ]
  },
  {
   "cell_type": "code",
   "execution_count": 14,
   "metadata": {},
   "outputs": [
    {
     "name": "stdout",
     "output_type": "stream",
     "text": [
      "walking\n",
      "eating\n",
      "A eat bone\n",
      "A using foot walk\n"
     ]
    }
   ],
   "source": [
    "# inheritance\n",
    "\n",
    "class Animal:\n",
    "    name = ''\n",
    "    __private = '' # 有私有變數不希望讓外部使用者，或者是被繼承的類別使用的可以使用\n",
    "    def __init__(self, name):\n",
    "        self.name = name\n",
    "\n",
    "    def walk(self):\n",
    "        print('walking')\n",
    "\n",
    "    def eat(self):\n",
    "        print('eating')\n",
    "\n",
    "\n",
    "class Dog(Animal):\n",
    "    def __init__(self, name):\n",
    "        super().__init__(name)\n",
    "\n",
    "    def walk(self):\n",
    "        print('{0} using foot walk'.format(self.name))\n",
    "\n",
    "    def eat(self):\n",
    "        print('{0} eat bone'.format(self.name))\n",
    "\n",
    "\n",
    "creature = Animal('ee')\n",
    "creature.walk()\n",
    "creature.eat()\n",
    "\n",
    "        \n",
    "animal = Dog('A')\n",
    "animal.eat()\n",
    "animal.walk()"
   ]
  },
  {
   "cell_type": "code",
   "execution_count": 15,
   "metadata": {},
   "outputs": [
    {
     "name": "stdout",
     "output_type": "stream",
     "text": [
      "A eat worm\n",
      "A using two foot walk\n"
     ]
    }
   ],
   "source": [
    "# 在多建立一個class繼承上述的Animal並實作eat()跟walk()之後當實體物件以Dog產生則其eat()跟walk()會依據Dog的實作來執行，若以新的class來產生實體則會依據新class的eat()跟walk()實作來執行\n",
    "class Duck(Animal):\n",
    "    def __init__(self, name):\n",
    "        super().__init__(name)\n",
    "\n",
    "    def walk(self):\n",
    "        print('{0} using two foot walk'.format(self.name))\n",
    "\n",
    "    def eat(self):\n",
    "        print('{0} eat worm'.format(self.name))\n",
    "\n",
    "animal = Duck('A')\n",
    "animal.eat()\n",
    "animal.walk()"
   ]
  },
  {
   "cell_type": "code",
   "execution_count": null,
   "metadata": {},
   "outputs": [],
   "source": []
  },
  {
   "cell_type": "code",
   "execution_count": 1,
   "metadata": {},
   "outputs": [
    {
     "name": "stdout",
     "output_type": "stream",
     "text": [
      "Apple\n",
      "Hello world.\n"
     ]
    }
   ],
   "source": [
    "class FirstClass:\n",
    "    \"\"\"My first class in python.\"\"\"\n",
    "    \n",
    "    str = \"Apple\"\n",
    "    def fun(self):     # 在類別內的函數都至少要傳入參數self\n",
    "        return \"Hello world.\"\n",
    " \n",
    "my_obj = FirstClass()  # 宣告一個類別為FirstClass的物件\n",
    "print(my_obj.str)      # 使用物件的公開變數\n",
    "print(my_obj.fun())    # 使用物件的公開函數"
   ]
  },
  {
   "cell_type": "code",
   "execution_count": null,
   "metadata": {},
   "outputs": [],
   "source": []
  },
  {
   "cell_type": "markdown",
   "metadata": {},
   "source": [
    "### inheritance"
   ]
  },
  {
   "cell_type": "code",
   "execution_count": null,
   "metadata": {},
   "outputs": [],
   "source": [
    "class Car:\n",
    "    wheels_number = 4      # 輪胎數量\n",
    "    car_doors = 4          # 車門數量\n",
    "    passengers = 4         # 乘客數量\n",
    "    def __init__(self, wheels_number=4, car_doors=4, passengers=4):\n",
    "        self.wheels_number = wheels_number\n",
    "        self.car_doors = car_doors\n",
    "        self.passengers = passengers\n",
    "\n",
    "# SUV也是一種車子，所以繼承Car\n",
    "class SUV(Car):\n",
    "    brand_name = \"\"        # 品牌名稱\n",
    "    air_bag = 2            # 安全氣囊數\n",
    "    sunroof = True         # 是否擁有天窗\n",
    "    def __init__(self, wheels_number, car_doors, passengers, brand_name=\"\", air_bag=2, sunroof=False):\n",
    "        super().__init__(wheels_number, car_doors, passengers)\n",
    "        self.brand_name = brand_name\n",
    "        self.air_bag = air_bag\n",
    "        self.sunroof = sunroof\n",
    "\n",
    "    def getDetails(self):\n",
    "        print(\"==== Details ====\")\n",
    "        print(\"Brand:\", self.brand_name)\n",
    "        print(\"Wheels number:\", self.wheels_number)    # 可直接呼叫父類別的變數(屬性)\n",
    "        print(\"Doors number:\", self.car_doors)         # 可直接呼叫父類別的變數(屬性)\n",
    "        print(\"Air-bags number:\", self.air_bag)\n",
    "        print(\"Sunroof:\", self.sunroof)\n",
    "        print(\"=================\")\n",
    "\n",
    "# 宣告一台Toyota RAV的休旅車(SUV)\n",
    "toyota_rav = SUV(4, 5, 5, \"Toyota RAV\", 4, True)\n",
    "toyota_rav.getDetails()\n",
    "# 宣告一台BMW X5的休旅車\n",
    "bmw_x5 = SUV(4, 5, 5, \"BMW X5\", 6, True)\n",
    "bmw_x5.getDetails()\n",
    "\n",
    "class Car:\n",
    "    wheels_number = 4      # 輪胎數量\n",
    "    car_doors = 4          # 車門數量\n",
    "    passengers = 4         # 乘客數量\n",
    "    def __init__(self, wheels_number=4, car_doors=4, passengers=4):\n",
    "        self.wheels_number = wheels_number\n",
    "        self.car_doors = car_doors\n",
    "        self.passengers = passengers"
   ]
  },
  {
   "cell_type": "code",
   "execution_count": 7,
   "metadata": {},
   "outputs": [],
   "source": [
    "class Car:\n",
    "    def __init__(self, wheels_number=4, car_doors=4, passengers=4):\n",
    "        self.wheels_number = wheels_number\n",
    "        self.car_doors = car_doors\n",
    "        self.passengers = passengers\n",
    "\n",
    "class Acer(Car):\n",
    "    brand_name = \"\"        # 品牌名稱\n",
    "    air_bag = 2            # 安全氣囊數\n",
    "    sunroof = True         # 是否擁有天窗\n",
    "    def __init__(self, wheels_number, car_doors, passengers):\n",
    "        super().__init__(wheels_number, car_doors, passengers)\n",
    "    "
   ]
  },
  {
   "cell_type": "code",
   "execution_count": 8,
   "metadata": {},
   "outputs": [],
   "source": [
    "aa = Car()"
   ]
  },
  {
   "cell_type": "code",
   "execution_count": 9,
   "metadata": {},
   "outputs": [
    {
     "data": {
      "text/plain": [
       "4"
      ]
     },
     "execution_count": 9,
     "metadata": {},
     "output_type": "execute_result"
    }
   ],
   "source": [
    "aa.car_doors"
   ]
  },
  {
   "cell_type": "code",
   "execution_count": 11,
   "metadata": {},
   "outputs": [],
   "source": [
    "cc = Acer(3,2,1)"
   ]
  },
  {
   "cell_type": "code",
   "execution_count": 13,
   "metadata": {},
   "outputs": [
    {
     "data": {
      "text/plain": [
       "3"
      ]
     },
     "execution_count": 13,
     "metadata": {},
     "output_type": "execute_result"
    }
   ],
   "source": [
    "cc.wheels_number"
   ]
  },
  {
   "cell_type": "code",
   "execution_count": null,
   "metadata": {},
   "outputs": [],
   "source": []
  },
  {
   "cell_type": "code",
   "execution_count": null,
   "metadata": {},
   "outputs": [],
   "source": []
  },
  {
   "cell_type": "code",
   "execution_count": null,
   "metadata": {},
   "outputs": [],
   "source": []
  },
  {
   "cell_type": "markdown",
   "metadata": {},
   "source": [
    "### decorator"
   ]
  },
  {
   "cell_type": "code",
   "execution_count": null,
   "metadata": {},
   "outputs": [],
   "source": []
  },
  {
   "cell_type": "code",
   "execution_count": 9,
   "metadata": {},
   "outputs": [
    {
     "name": "stdout",
     "output_type": "stream",
     "text": [
      " * Serving Flask app \"__main__\" (lazy loading)\n",
      " * Environment: production\n",
      "\u001b[31m   WARNING: This is a development server. Do not use it in a production deployment.\u001b[0m\n",
      "\u001b[2m   Use a production WSGI server instead.\u001b[0m\n",
      " * Debug mode: off\n"
     ]
    },
    {
     "name": "stderr",
     "output_type": "stream",
     "text": [
      " * Running on http://127.0.0.1:5000/ (Press CTRL+C to quit)\n",
      "127.0.0.1 - - [28/Mar/2021 16:52:27] \"\u001b[37mGET / HTTP/1.1\u001b[0m\" 200 -\n",
      "127.0.0.1 - - [28/Mar/2021 16:52:27] \"\u001b[33mGET /favicon.ico HTTP/1.1\u001b[0m\" 404 -\n"
     ]
    }
   ],
   "source": [
    "from flask import Flask\n",
    "\n",
    "app = Flask(__name__)\n",
    "@app.route(\"/\")\n",
    "def hello():\n",
    "    return \"Hello World!\"\n",
    "\n",
    "if __name__ == \"__main__\":\n",
    "    app.run()"
   ]
  },
  {
   "cell_type": "code",
   "execution_count": null,
   "metadata": {},
   "outputs": [],
   "source": []
  },
  {
   "cell_type": "code",
   "execution_count": 10,
   "metadata": {},
   "outputs": [
    {
     "name": "stdout",
     "output_type": "stream",
     "text": [
      "Hello\n",
      "World\n"
     ]
    }
   ],
   "source": [
    "def printHello(func):\n",
    "    def wrapper():\n",
    "        print('Hello')\n",
    "        return func()\n",
    "    return wrapper\n",
    "\n",
    "@printHello\n",
    "def printWorld():\n",
    "    print('World')\n",
    "\n",
    "printWorld()"
   ]
  },
  {
   "cell_type": "code",
   "execution_count": 11,
   "metadata": {},
   "outputs": [
    {
     "name": "stdout",
     "output_type": "stream",
     "text": [
      "Hello\n",
      "Kitty\n"
     ]
    }
   ],
   "source": [
    "@printHello\n",
    "def printKitty():\n",
    "    print('Kitty')\n",
    "\n",
    "printKitty()"
   ]
  },
  {
   "cell_type": "code",
   "execution_count": null,
   "metadata": {},
   "outputs": [],
   "source": []
  },
  {
   "cell_type": "code",
   "execution_count": 12,
   "metadata": {},
   "outputs": [],
   "source": [
    "printWorld = printHello(printWorld)"
   ]
  },
  {
   "cell_type": "code",
   "execution_count": null,
   "metadata": {},
   "outputs": [],
   "source": []
  },
  {
   "cell_type": "code",
   "execution_count": null,
   "metadata": {},
   "outputs": [],
   "source": []
  },
  {
   "cell_type": "code",
   "execution_count": null,
   "metadata": {},
   "outputs": [],
   "source": []
  },
  {
   "cell_type": "code",
   "execution_count": null,
   "metadata": {},
   "outputs": [],
   "source": []
  },
  {
   "cell_type": "code",
   "execution_count": null,
   "metadata": {},
   "outputs": [],
   "source": []
  },
  {
   "cell_type": "code",
   "execution_count": null,
   "metadata": {},
   "outputs": [],
   "source": []
  },
  {
   "cell_type": "code",
   "execution_count": null,
   "metadata": {},
   "outputs": [],
   "source": []
  },
  {
   "cell_type": "code",
   "execution_count": 32,
   "metadata": {},
   "outputs": [],
   "source": [
    "class Employee:\n",
    "    def __init__(self):\n",
    "        self.working_hour = 0 #屬性\n",
    "\n",
    "    def work(self): #方法\n",
    "        self.working_hour += 1\n",
    "        print('Working:', self.working_hour)"
   ]
  },
  {
   "cell_type": "code",
   "execution_count": null,
   "metadata": {},
   "outputs": [],
   "source": []
  },
  {
   "cell_type": "code",
   "execution_count": 33,
   "metadata": {},
   "outputs": [
    {
     "name": "stdout",
     "output_type": "stream",
     "text": [
      "Working: 1\n",
      "1\n"
     ]
    }
   ],
   "source": [
    "andy = Employee()  # 類的實例化\n",
    "andy.work() # 呼叫類的方法\n",
    "print(andy.working_hour) # 呼叫類的屬性"
   ]
  },
  {
   "cell_type": "code",
   "execution_count": 36,
   "metadata": {},
   "outputs": [
    {
     "name": "stdout",
     "output_type": "stream",
     "text": [
      "Working: 3\n"
     ]
    }
   ],
   "source": [
    "andy.work()"
   ]
  },
  {
   "cell_type": "code",
   "execution_count": 37,
   "metadata": {},
   "outputs": [
    {
     "data": {
      "text/plain": [
       "3"
      ]
     },
     "execution_count": 37,
     "metadata": {},
     "output_type": "execute_result"
    }
   ],
   "source": [
    "andy.working_hour"
   ]
  },
  {
   "cell_type": "code",
   "execution_count": null,
   "metadata": {},
   "outputs": [],
   "source": []
  },
  {
   "cell_type": "code",
   "execution_count": null,
   "metadata": {},
   "outputs": [],
   "source": []
  },
  {
   "cell_type": "code",
   "execution_count": 38,
   "metadata": {},
   "outputs": [
    {
     "name": "stdout",
     "output_type": "stream",
     "text": [
      "Max\n",
      "Max__init__\n",
      "Max_sendName\n"
     ]
    }
   ],
   "source": [
    "class ThisTestClass:\n",
    "    getName = 'Max'  #方法一：把屬性定義寫在init外面\n",
    "\n",
    "    def __init__(self):\n",
    "        self.getNameFromInit = 'Max__init__'  #方法二：把屬性定義寫在init內\n",
    "        pass\n",
    "\n",
    "\n",
    "if __name__ == \"__main__\":\n",
    "\n",
    "    task = ThisTestClass()\n",
    "    task.sendName = 'Max_sendName'  ##方法三：自己給屬性與參數\n",
    "\n",
    "    print(task.getName)\n",
    "    print(task.getNameFromInit)\n",
    "    print(task.sendName)"
   ]
  },
  {
   "cell_type": "code",
   "execution_count": null,
   "metadata": {},
   "outputs": [],
   "source": []
  },
  {
   "cell_type": "code",
   "execution_count": null,
   "metadata": {},
   "outputs": [],
   "source": []
  },
  {
   "cell_type": "code",
   "execution_count": null,
   "metadata": {},
   "outputs": [],
   "source": []
  },
  {
   "cell_type": "code",
   "execution_count": 40,
   "metadata": {},
   "outputs": [
    {
     "name": "stdout",
     "output_type": "stream",
     "text": [
      "==getDetals==\n",
      "tree: 3\n",
      "gold: 1\n"
     ]
    }
   ],
   "source": [
    "class Employee:\n",
    "    def __init__(self):\n",
    "        self.cut_tree = 3\n",
    "\n",
    "class Andy(Employee):\n",
    "    def __init__(self, get_gold):\n",
    "        super().__init__()\n",
    "        self.get_gold = get_gold\n",
    "\n",
    "    def getDetials(self):\n",
    "        print('==getDetals==')\n",
    "        print('tree:', self.cut_tree)\n",
    "        print('gold:', self.get_gold)\n",
    "\n",
    "\n",
    "if __name__ == \"__main__\":\n",
    "    andy = Andy(1)\n",
    "    andy.getDetials()"
   ]
  },
  {
   "cell_type": "code",
   "execution_count": null,
   "metadata": {},
   "outputs": [],
   "source": []
  },
  {
   "cell_type": "code",
   "execution_count": null,
   "metadata": {},
   "outputs": [],
   "source": []
  },
  {
   "cell_type": "code",
   "execution_count": 45,
   "metadata": {},
   "outputs": [
    {
     "name": "stdout",
     "output_type": "stream",
     "text": [
      "Working\n"
     ]
    },
    {
     "ename": "AttributeError",
     "evalue": "'Employee' object has no attribute '__sleep'",
     "output_type": "error",
     "traceback": [
      "\u001b[0;31m---------------------------------------------------------------------------\u001b[0m",
      "\u001b[0;31mAttributeError\u001b[0m                            Traceback (most recent call last)",
      "\u001b[0;32m<ipython-input-45-8474fa7268dd>\u001b[0m in \u001b[0;36m<module>\u001b[0;34m\u001b[0m\n\u001b[1;32m     14\u001b[0m \u001b[0;34m\u001b[0m\u001b[0m\n\u001b[1;32m     15\u001b[0m     \u001b[0mandy\u001b[0m\u001b[0;34m.\u001b[0m\u001b[0mwork\u001b[0m\u001b[0;34m(\u001b[0m\u001b[0;34m)\u001b[0m\u001b[0;34m\u001b[0m\u001b[0;34m\u001b[0m\u001b[0m\n\u001b[0;32m---> 16\u001b[0;31m     \u001b[0mandy\u001b[0m\u001b[0;34m.\u001b[0m\u001b[0m__sleep\u001b[0m\u001b[0;34m(\u001b[0m\u001b[0;34m)\u001b[0m\u001b[0;34m\u001b[0m\u001b[0;34m\u001b[0m\u001b[0m\n\u001b[0m",
      "\u001b[0;31mAttributeError\u001b[0m: 'Employee' object has no attribute '__sleep'"
     ]
    }
   ],
   "source": [
    "class Employee:\n",
    "    def __init__(self):\n",
    "        self.cut_tree = 3\n",
    "\n",
    "    def work(self):\n",
    "        print('Working')\n",
    "\n",
    "    def __sleep(self):\n",
    "        print('Sleeping')\n",
    "\n",
    "\n",
    "if __name__ == \"__main__\":\n",
    "    andy = Employee()\n",
    "\n",
    "    andy.work()\n",
    "    andy.__sleep()\n"
   ]
  },
  {
   "cell_type": "code",
   "execution_count": null,
   "metadata": {},
   "outputs": [],
   "source": []
  },
  {
   "cell_type": "code",
   "execution_count": null,
   "metadata": {},
   "outputs": [],
   "source": []
  },
  {
   "cell_type": "code",
   "execution_count": 46,
   "metadata": {},
   "outputs": [
    {
     "name": "stdout",
     "output_type": "stream",
     "text": [
      "Employee work\n",
      "Andy work\n",
      "Joy work\n"
     ]
    }
   ],
   "source": [
    "class Employee:\n",
    "    def work(self):\n",
    "        print('Employee work')\n",
    "\n",
    "class Andy(Employee):\n",
    "    def work(self):\n",
    "        print('Andy work')\n",
    "\n",
    "class Joy(Employee):\n",
    "    def work(self):\n",
    "        print('Joy work')\n",
    "\n",
    "\n",
    "w = Employee()\n",
    "w1 = Andy()\n",
    "w2 = Joy()\n",
    "\n",
    "w.work()\n",
    "w1.work()\n",
    "w2.work()"
   ]
  },
  {
   "cell_type": "code",
   "execution_count": null,
   "metadata": {},
   "outputs": [],
   "source": []
  },
  {
   "cell_type": "code",
   "execution_count": null,
   "metadata": {},
   "outputs": [],
   "source": []
  },
  {
   "cell_type": "code",
   "execution_count": 48,
   "metadata": {},
   "outputs": [
    {
     "name": "stdout",
     "output_type": "stream",
     "text": [
      "這是__doc__資訊\n",
      "<class '__main__.Employee'>\n",
      "{'__module__': '__main__', '__doc__': '這是__doc__資訊', 'work': <function Employee.work at 0x7fb410047160>, '__dict__': <attribute '__dict__' of 'Employee' objects>, '__weakref__': <attribute '__weakref__' of 'Employee' objects>}\n"
     ]
    }
   ],
   "source": [
    "class Employee:\n",
    "    '''這是__doc__資訊'''\n",
    "    def work(self):\n",
    "        print('Employee work')\n",
    "\n",
    "\n",
    "w = Employee()\n",
    "\n",
    "print(w.__doc__)\n",
    "print(w.__class__)\n",
    "print(Employee.__dict__)"
   ]
  },
  {
   "cell_type": "code",
   "execution_count": null,
   "metadata": {},
   "outputs": [],
   "source": []
  },
  {
   "cell_type": "code",
   "execution_count": null,
   "metadata": {},
   "outputs": [],
   "source": []
  },
  {
   "cell_type": "code",
   "execution_count": null,
   "metadata": {},
   "outputs": [],
   "source": []
  },
  {
   "cell_type": "code",
   "execution_count": null,
   "metadata": {},
   "outputs": [],
   "source": []
  },
  {
   "cell_type": "code",
   "execution_count": 1,
   "metadata": {},
   "outputs": [
    {
     "name": "stdout",
     "output_type": "stream",
     "text": [
      "hello world :)\n",
      "hello world :)\n",
      "hello world :)\n",
      "hello world :)\n",
      "hello world :)\n",
      "hello world :)\n",
      "hello world :)\n",
      "hello world :)\n",
      "hello world :)\n"
     ]
    }
   ],
   "source": [
    "import tkinter as tk\n",
    "\n",
    "# 建立主視窗和 Frame（把元件變成群組的容器）\n",
    "window = tk.Tk()\n",
    "top_frame = tk.Frame(window)\n",
    "\n",
    "# 將元件分為 top/bottom 兩群並加入主視窗\n",
    "top_frame.pack()\n",
    "bottom_frame = tk.Frame(window)\n",
    "bottom_frame.pack(side=tk.BOTTOM)\n",
    "\n",
    "# 建立事件處理函式（event handler），透過元件 command 參數存取\n",
    "def echo_hello():\n",
    "    print('hello world :)')\n",
    "\n",
    "# 以下為 top 群組\n",
    "left_button = tk.Button(top_frame, text='Red', fg='red')\n",
    "# 讓系統自動擺放元件，預設為由上而下（靠左）\n",
    "left_button.pack(side=tk.LEFT)\n",
    "\n",
    "middle_button = tk.Button(top_frame, text='Green', fg='green')\n",
    "middle_button.pack(side=tk.LEFT)\n",
    "\n",
    "right_button = tk.Button(top_frame, text='Blue', fg='blue')\n",
    "right_button.pack(side=tk.LEFT)\n",
    "\n",
    "# 以下為 bottom 群組\n",
    "# bottom_button 綁定 echo_hello 事件處理，點擊該按鈕會印出 hello world :)\n",
    "bottom_button = tk.Button(bottom_frame, text='Black', fg='black', command=echo_hello)\n",
    "# 讓系統自動擺放元件（靠下方）\n",
    "bottom_button.pack(side=tk.BOTTOM)\n",
    "\n",
    "# 運行主程式\n",
    "window.mainloop()"
   ]
  },
  {
   "cell_type": "code",
   "execution_count": null,
   "metadata": {},
   "outputs": [],
   "source": []
  },
  {
   "cell_type": "code",
   "execution_count": 2,
   "metadata": {},
   "outputs": [],
   "source": [
    "import tkinter as tk\n",
    "\n",
    "window = tk.Tk()\n",
    "# 設定視窗標題、大小和背景顏色\n",
    "window.title('BMI App')\n",
    "window.geometry('800x600')\n",
    "window.configure(background='white')\n",
    "\n",
    "# 運行主程式\n",
    "window.mainloop()"
   ]
  },
  {
   "cell_type": "code",
   "execution_count": null,
   "metadata": {},
   "outputs": [],
   "source": []
  },
  {
   "cell_type": "code",
   "execution_count": null,
   "metadata": {},
   "outputs": [],
   "source": []
  },
  {
   "cell_type": "code",
   "execution_count": 4,
   "metadata": {},
   "outputs": [],
   "source": [
    "import tkinter as tk\n",
    "import math\n",
    "\n",
    "window = tk.Tk()\n",
    "window.title('BMI App')\n",
    "window.geometry('800x600')\n",
    "window.configure(background='white')\n",
    "\n",
    "def calculate_bmi_number():\n",
    "    height = float(height_entry.get())\n",
    "    weight = float(weight_entry.get())\n",
    "    bmi_value = round(weight / math.pow(height, 2), 2)\n",
    "    result = '你的 BMI 指數為：{} {}'.format(bmi_value, get_bmi_status_description(bmi_value))\n",
    "    result_label.configure(text=result)\n",
    "\n",
    "def get_bmi_status_description(bmi_value):\n",
    "    if bmi_value < 18.5:\n",
    "        return '體重過輕囉，多吃點！'\n",
    "    elif bmi_value >= 18.5 and bmi_value < 24:\n",
    "        return '體重剛剛好，繼續保持！'\n",
    "    elif bmi_value >= 24 :\n",
    "        return '體重有點過重囉，少吃多運動！'\n",
    "\n",
    "header_label = tk.Label(window, text='BMI 計算器')\n",
    "header_label.pack()\n",
    "\n",
    "height_frame = tk.Frame(window)\n",
    "height_frame.pack(side=tk.TOP)\n",
    "height_label = tk.Label(height_frame, text='身高（m）')\n",
    "height_label.pack(side=tk.LEFT)\n",
    "height_entry = tk.Entry(height_frame)\n",
    "height_entry.pack(side=tk.LEFT)\n",
    "\n",
    "weight_frame = tk.Frame(window)\n",
    "weight_frame.pack(side=tk.TOP)\n",
    "weight_label = tk.Label(weight_frame, text='體重（kg）')\n",
    "weight_label.pack(side=tk.LEFT)\n",
    "weight_entry = tk.Entry(weight_frame)\n",
    "weight_entry.pack(side=tk.LEFT)\n",
    "\n",
    "result_label = tk.Label(window)\n",
    "result_label.pack()\n",
    "\n",
    "calculate_btn = tk.Button(window, text='馬上計算', command=calculate_bmi_number)\n",
    "calculate_btn.pack()\n",
    "\n",
    "window.mainloop()"
   ]
  },
  {
   "cell_type": "code",
   "execution_count": null,
   "metadata": {},
   "outputs": [],
   "source": []
  },
  {
   "cell_type": "code",
   "execution_count": null,
   "metadata": {},
   "outputs": [],
   "source": []
  }
 ],
 "metadata": {
  "kernelspec": {
   "display_name": "Python 3",
   "language": "python",
   "name": "python3"
  },
  "language_info": {
   "codemirror_mode": {
    "name": "ipython",
    "version": 3
   },
   "file_extension": ".py",
   "mimetype": "text/x-python",
   "name": "python",
   "nbconvert_exporter": "python",
   "pygments_lexer": "ipython3",
   "version": "3.8.5"
  }
 },
 "nbformat": 4,
 "nbformat_minor": 4
}
