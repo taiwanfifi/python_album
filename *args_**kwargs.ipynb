{
 "cells": [
  {
   "cell_type": "code",
   "execution_count": 6,
   "metadata": {},
   "outputs": [
    {
     "name": "stdout",
     "output_type": "stream",
     "text": [
      "1\n",
      "2\n",
      "(3, 4, 5, 72, 12)\n",
      "6\n",
      "{'g': 7, 'f': 8, 'l': 9}\n"
     ]
    }
   ],
   "source": [
    "def fun(a, b, *args, kw1, **kwargs):\n",
    "    print(a, b, args, kw1, kwargs, sep='\\n')\n",
    "\n",
    "fun(1, 2, 3, 4, 5, 72, 12, kw1=6, g=7, f=8, l=9)"
   ]
  },
  {
   "cell_type": "code",
   "execution_count": 25,
   "metadata": {},
   "outputs": [
    {
     "name": "stdout",
     "output_type": "stream",
     "text": [
      "{'g': 7, 'f': 8, 'l': 9} <class 'dict'>\n"
     ]
    }
   ],
   "source": [
    "def fun( **kwargs):\n",
    "    #print(a, b)#args, type(args))\n",
    "    print(kwargs, type(kwargs))\n",
    "\n",
    "\n",
    "fun( g=7, f=8, l=9)"
   ]
  },
  {
   "cell_type": "code",
   "execution_count": 28,
   "metadata": {},
   "outputs": [
    {
     "name": "stdout",
     "output_type": "stream",
     "text": [
      "hello # world=\n",
      "\n",
      "="
     ]
    }
   ],
   "source": [
    "dt = {'sep': ' # ', 'end': '=\\n\\n='}\n",
    "print('hello', 'world', **dt)"
   ]
  },
  {
   "cell_type": "code",
   "execution_count": 33,
   "metadata": {},
   "outputs": [
    {
     "name": "stdout",
     "output_type": "stream",
     "text": [
      "{'name': 'Sky', 'attack': 100, 'hp': 500, 'defense': 0}\n"
     ]
    }
   ],
   "source": [
    "def fun(**settings):\n",
    "    settings.setdefault('name', 'Hello')\n",
    "    settings.setdefault('attack', 50)\n",
    "    settings.setdefault('defense', 0)\n",
    "    settings.setdefault('hp', 150)\n",
    "    \n",
    "    print(settings)\n",
    "\n",
    "fun(name='Sky', attack=100, hp=500)"
   ]
  },
  {
   "cell_type": "code",
   "execution_count": 1,
   "metadata": {},
   "outputs": [
    {
     "name": "stdout",
     "output_type": "stream",
     "text": [
      "1 2 3 4\n",
      "10 20 30 40\n"
     ]
    }
   ],
   "source": [
    "#  * 一定要在 ** 的前面，而呼叫函式時有名字的也一定要在沒名字的後面。這種集大成的寫法通常會在裝飾器時使用，讓裝飾器可以接受參數數量不同的函式。\n",
    "\n",
    "def fun(a, b=20, *, kw1, kw2=40):\n",
    "    print(a, b, kw1, kw2)\n",
    "\n",
    "fun(1, 2, kw1=3, kw2=4)  # 1 2 3 4\n",
    "fun(10, kw1=30)  # 10 20 30 40\n",
    "# 在傳入引數時，在 * 後面的（kw1 和 kw2）一定要以關鍵字引數（指名）傳入"
   ]
  },
  {
   "cell_type": "code",
   "execution_count": 2,
   "metadata": {},
   "outputs": [
    {
     "name": "stdout",
     "output_type": "stream",
     "text": [
      "1 # (2, 3, 4, 5) # 6 # {'g': 7, 'f': 8, 'l': 9}\n"
     ]
    }
   ],
   "source": [
    "def fun(a, *args, kw1, **kwargs):\n",
    "    print(a, args, kw1, kwargs, sep=' # ')\n",
    "\n",
    "fun(1, 2, 3, 4, 5, kw1=6, g=7, f=8, l=9)\n",
    "# 1 # (2, 3, 4, 5) # 6 # {'g': 7, 'f': 8, 'l': 9}"
   ]
  },
  {
   "cell_type": "code",
   "execution_count": null,
   "metadata": {},
   "outputs": [],
   "source": []
  },
  {
   "cell_type": "code",
   "execution_count": null,
   "metadata": {},
   "outputs": [],
   "source": []
  },
  {
   "cell_type": "code",
   "execution_count": 1,
   "metadata": {},
   "outputs": [
    {
     "name": "stdout",
     "output_type": "stream",
     "text": [
      "I'm args and value is [{'name': 10, 'value': 20}, 1, 2, 3]\n",
      "I'm args and value is 12364\n"
     ]
    }
   ],
   "source": [
    "def func(*args, **kwargs):\n",
    "    for item in args:\n",
    "        print(\"I'm args and value is {0}\".format(item))\n",
    "    for key, value in kwargs.items():\n",
    "        print(\"I'm kwargs and key and value is {0}={1}\".format(key, value))\n",
    "\n",
    "\n",
    "func([{\n",
    "    'name': 10,\n",
    "    'value': 20\n",
    "}, 1, 2, 3], 12364)"
   ]
  },
  {
   "cell_type": "code",
   "execution_count": 2,
   "metadata": {},
   "outputs": [
    {
     "name": "stdout",
     "output_type": "stream",
     "text": [
      "I'm kwargs and key and value is name=1023\n"
     ]
    }
   ],
   "source": [
    "func(name=1023)"
   ]
  },
  {
   "cell_type": "code",
   "execution_count": null,
   "metadata": {},
   "outputs": [],
   "source": []
  },
  {
   "cell_type": "code",
   "execution_count": null,
   "metadata": {},
   "outputs": [],
   "source": []
  }
 ],
 "metadata": {
  "kernelspec": {
   "display_name": "Python 3",
   "language": "python",
   "name": "python3"
  },
  "language_info": {
   "codemirror_mode": {
    "name": "ipython",
    "version": 3
   },
   "file_extension": ".py",
   "mimetype": "text/x-python",
   "name": "python",
   "nbconvert_exporter": "python",
   "pygments_lexer": "ipython3",
   "version": "3.8.5"
  }
 },
 "nbformat": 4,
 "nbformat_minor": 4
}
