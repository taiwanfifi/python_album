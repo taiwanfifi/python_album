{
 "cells": [
  {
   "cell_type": "code",
   "execution_count": 1,
   "metadata": {},
   "outputs": [
    {
     "name": "stdout",
     "output_type": "stream",
     "text": [
      ".:william\n"
     ]
    }
   ],
   "source": [
    "def f1(name):\n",
    "    return ':'+name\n",
    "\n",
    "def f2(func):\n",
    "    def f3(name):\n",
    "        return '.'+func(name)\n",
    "    return f3\n",
    "\n",
    "f4 = f2(f1)\n",
    "print(f4('william'))"
   ]
  },
  {
   "cell_type": "code",
   "execution_count": 2,
   "metadata": {},
   "outputs": [
    {
     "data": {
      "text/plain": [
       "'.:william'"
      ]
     },
     "execution_count": 2,
     "metadata": {},
     "output_type": "execute_result"
    }
   ],
   "source": [
    "@f2\n",
    "def f1(name):\n",
    "    return ':'+name\n",
    "\n",
    "f1('william')"
   ]
  },
  {
   "cell_type": "code",
   "execution_count": null,
   "metadata": {},
   "outputs": [],
   "source": []
  },
  {
   "cell_type": "code",
   "execution_count": 5,
   "metadata": {},
   "outputs": [],
   "source": [
    "class Demo:\n",
    "    @classmethod\n",
    "    def demo(cls):\n",
    "        print(\"demo\")"
   ]
  },
  {
   "cell_type": "code",
   "execution_count": 7,
   "metadata": {},
   "outputs": [
    {
     "name": "stdout",
     "output_type": "stream",
     "text": [
      "demo\n"
     ]
    }
   ],
   "source": [
    "Demo.demo()"
   ]
  },
  {
   "cell_type": "code",
   "execution_count": null,
   "metadata": {},
   "outputs": [],
   "source": []
  },
  {
   "cell_type": "code",
   "execution_count": null,
   "metadata": {},
   "outputs": [],
   "source": []
  },
  {
   "cell_type": "code",
   "execution_count": 4,
   "metadata": {},
   "outputs": [
    {
     "name": "stdout",
     "output_type": "stream",
     "text": [
      "hello\n",
      "world\n"
     ]
    }
   ],
   "source": [
    "def printHello(func):\n",
    "    def wrapper(arg):\n",
    "        print('hello')\n",
    "        return func(arg)\n",
    "    return wrapper\n",
    "\n",
    "@printHello\n",
    "def printWorld(content):\n",
    "    print(content)\n",
    "    \n",
    "    \n",
    "printWorld('world')"
   ]
  },
  {
   "cell_type": "code",
   "execution_count": 11,
   "metadata": {},
   "outputs": [],
   "source": [
    "def printHello(func):\n",
    "    def wrapper(*args, **kwargs):\n",
    "        print('hello')\n",
    "        return func(*args, **kwargs)\n",
    "    return wrapper\n",
    "\n",
    "@printHello\n",
    "def printWorld(content):\n",
    "    print(content)\n",
    "    \n",
    "@printHello\n",
    "def printTwo(con1, con2):\n",
    "    print(con1)\n",
    "    print()\n",
    "    print(con2)\n",
    "    \n",
    "    "
   ]
  },
  {
   "cell_type": "code",
   "execution_count": 12,
   "metadata": {},
   "outputs": [
    {
     "name": "stdout",
     "output_type": "stream",
     "text": [
      "hello\n",
      "word\n",
      "hello\n",
      "mimi\n",
      "\n",
      "corise\n"
     ]
    }
   ],
   "source": [
    "printWorld('word')\n",
    "printTwo('mimi', 'corise')"
   ]
  },
  {
   "cell_type": "code",
   "execution_count": null,
   "metadata": {},
   "outputs": [],
   "source": []
  }
 ],
 "metadata": {
  "kernelspec": {
   "display_name": "Python 3",
   "language": "python",
   "name": "python3"
  },
  "language_info": {
   "codemirror_mode": {
    "name": "ipython",
    "version": 3
   },
   "file_extension": ".py",
   "mimetype": "text/x-python",
   "name": "python",
   "nbconvert_exporter": "python",
   "pygments_lexer": "ipython3",
   "version": "3.8.5"
  }
 },
 "nbformat": 4,
 "nbformat_minor": 4
}
